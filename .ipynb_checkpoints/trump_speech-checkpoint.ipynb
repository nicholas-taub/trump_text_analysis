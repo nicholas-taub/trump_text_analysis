{
 "cells": [
  {
   "cell_type": "code",
   "execution_count": 1,
   "metadata": {},
   "outputs": [],
   "source": [
    "import re\n",
    "import string\n",
    "import pandas as pd\n",
    "import nltk.corpus\n",
    "import nltk.tokenize.punkt\n",
    "import nltk.stem.snowball\n",
    "import string\n",
    "from textblob import TextBlob\n",
    "from collections import Counter\n",
    "import nltk\n",
    "import matplotlib.pyplot as plt\n",
    "import seaborn as sns\n",
    "import sys  "
   ]
  },
  {
   "cell_type": "code",
   "execution_count": 2,
   "metadata": {
    "collapsed": true
   },
   "outputs": [],
   "source": [
    "reload(sys)  \n",
    "sys.setdefaultencoding('utf8')"
   ]
  },
  {
   "cell_type": "markdown",
   "metadata": {},
   "source": [
    "### Regex"
   ]
  },
  {
   "cell_type": "code",
   "execution_count": 3,
   "metadata": {
    "collapsed": true
   },
   "outputs": [],
   "source": [
    "# find all unique words with length 5-20 character including letters a-z in full_speech.txt\n",
    "match_pattern = re.findall(r'\\b[a-z]{5,20}\\b', open('full_speech.txt').read().lower())"
   ]
  },
  {
   "cell_type": "code",
   "execution_count": 4,
   "metadata": {},
   "outputs": [],
   "source": [
    "# create empty dictionary instance\n",
    "frequency = {}\n",
    "\n",
    "# loop over regex matches and save as listed dictionary of keys and frequency values\n",
    "for word in match_pattern:\n",
    "    count = frequency.get(word,0)\n",
    "    frequency[word] = count + 1"
   ]
  },
  {
   "cell_type": "code",
   "execution_count": 5,
   "metadata": {
    "collapsed": true
   },
   "outputs": [],
   "source": [
    "# use Counter to save top five most frequent words\n",
    "freq_dict = Counter(frequency).most_common(5)"
   ]
  },
  {
   "cell_type": "code",
   "execution_count": 6,
   "metadata": {},
   "outputs": [],
   "source": [
    "# print findings\n",
    "print freq_dict"
   ]
  },
  {
   "cell_type": "code",
   "execution_count": 7,
   "metadata": {
    "scrolled": true
   },
   "outputs": [
    {
     "data": {
      "image/png": "[encoded data removed]",
      "text/plain": [
       "<matplotlib.figure.Figure at 0x11cfeff90>"
      ]
     },
     "metadata": {},
     "output_type": "display_data"
    }
   ],
   "source": [
    "# plot findings use matplotlib\n",
    "plt.bar(range(len(freq_dict)), [val[1] for val in freq_dict], align='center', color='chocolate')\n",
    "plt.title('Top Five Influencer Words of Length 5-20 Characters')\n",
    "plt.ylabel('Count')\n",
    "plt.xlabel('Words')\n",
    "plt.xticks(range(len(freq_dict)), [val[0] for val in freq_dict])\n",
    "plt.xticks(rotation=25)\n",
    "plt.show()"
   ]
  },
  {
   "cell_type": "markdown",
   "metadata": {},
   "source": [
    "### TextBlob"
   ]
  },
  {
   "cell_type": "code",
   "execution_count": 8,
   "metadata": {},
   "outputs": [],
   "source": [
    "# create TextBlob object in prep for further text analysis\n",
    "text_file = open('full_speech.txt')\n",
    "read_file = text_file.read()\n",
    "trump_blob = TextBlob(read_file)"
   ]
  },
  {
   "cell_type": "code",
   "execution_count": 9,
   "metadata": {},
   "outputs": [
    {
     "data": {
      "text/plain": [
       "WordList(['trump', 'wow', 'whoa', 'thousands.so', 'thank', u'trump tower', u'wonderful city', 'york', u\"'s expectations\", u\"n't work\", u'[ laughter ]', 'isis', u\"'s gon na\", u'[ applause ]', u'serious trouble', 'china', 'china', u'[ applause ]', u'audience member', 'trump'])"
      ]
     },
     "execution_count": 9,
     "metadata": {},
     "output_type": "execute_result"
    }
   ],
   "source": [
    "# store noun phrases\n",
    "trump_noun_phrase = trump_blob.noun_phrases\n",
    "# check first 20 values \n",
    "trump_noun_phrase[0:20]"
   ]
  },
  {
   "cell_type": "code",
   "execution_count": 10,
   "metadata": {},
   "outputs": [
    {
     "data": {
      "text/plain": [
       "[('hillary clinton', 379),\n",
       " ('america', 351),\n",
       " ('clinton', 194),\n",
       " ('[ applause ]', 157),\n",
       " ('trump', 132)]"
      ]
     },
     "execution_count": 10,
     "metadata": {},
     "output_type": "execute_result"
    }
   ],
   "source": [
    "# encode noun phrases in list\n",
    "trump_phase_list = [phrase.encode('utf-8') for phrase in list(trump_noun_phrase)]\n",
    "# show top phrases\n",
    "phrase_count = Counter(trump_phase_list).most_common(5)\n",
    "# check five most frequent phrases\n",
    "phrase_count"
   ]
  },
  {
   "cell_type": "code",
   "execution_count": 11,
   "metadata": {},
   "outputs": [
    {
     "data": {
      "text/plain": [
       "Sentiment(polarity=0.10130338328094018, subjectivity=0.45654210930522365)"
      ]
     },
     "execution_count": 11,
     "metadata": {},
     "output_type": "execute_result"
    }
   ],
   "source": [
    "# check overall sentiment scores of text\n",
    "trump_blob.sentiment"
   ]
  },
  {
   "cell_type": "code",
   "execution_count": 29,
   "metadata": {},
   "outputs": [],
   "source": [
    "# store sentences with negative polarity in new list\n",
    "trump_neg_sent = []\n",
    "# check for sentences with negative polarity\n",
    "for item in trump_blob.sentences:\n",
    "    if item.sentiment.polarity < 0:\n",
    "        trump_pos_sent.append(item.replace('\\n', ' '))\n",
    "neg_len = len(trump_neg_sent)"
   ]
  },
  {
   "cell_type": "code",
   "execution_count": 30,
   "metadata": {
    "collapsed": true
   },
   "outputs": [],
   "source": [
    "# store sentences with negative polarity in new list\n",
    "trump_pos_sent = []\n",
    "# check for sentences with negative polarity\n",
    "for item in trump_blob.sentences:\n",
    "    if item.sentiment.polarity > 0:\n",
    "        trump_pos_sent.append(item.replace('\\n', ' '))\n",
    "pos_len = len(trump_pos_sent)"
   ]
  },
  {
   "cell_type": "code",
   "execution_count": 31,
   "metadata": {},
   "outputs": [],
   "source": [
    "# store sentences with neutral polarity in new list\n",
    "trump_neu_sent = []\n",
    "# check for sentences with negative polarity\n",
    "for item in trump_blob.sentences:\n",
    "    if item.sentiment.polarity == 0:\n",
    "        trump_neu_sent.append(item.replace('\\n', ' '))\n",
    "neu_len = len(trump_neu_sent)"
   ]
  },
  {
   "cell_type": "code",
   "execution_count": 34,
   "metadata": {},
   "outputs": [
    {
     "data": {
      "text/plain": [
       "0"
      ]
     },
     "execution_count": 34,
     "metadata": {},
     "output_type": "execute_result"
    }
   ],
   "source": [
    "neg_len\n"
   ]
  },
  {
   "cell_type": "markdown",
   "metadata": {},
   "source": [
    "### NLTK"
   ]
  },
  {
   "cell_type": "code",
   "execution_count": null,
   "metadata": {
    "collapsed": true
   },
   "outputs": [],
   "source": []
  }
 ],
 "metadata": {
  "kernelspec": {
   "display_name": "Python 2",
   "language": "python",
   "name": "python2"
  },
  "language_info": {
   "codemirror_mode": {
    "name": "ipython",
    "version": 2
   },
   "file_extension": ".py",
   "mimetype": "text/x-python",
   "name": "python",
   "nbconvert_exporter": "python",
   "pygments_lexer": "ipython2",
   "version": "2.7.13"
  }
 },
 "nbformat": 4,
 "nbformat_minor": 2
}
