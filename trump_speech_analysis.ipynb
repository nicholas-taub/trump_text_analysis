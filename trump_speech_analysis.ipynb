{
 "cells": [
  {
   "cell_type": "markdown",
   "metadata": {},
   "source": [
    "### This mini analysis leverages text data comprised of all campaign speeches by then presidential candidate Donald Trump. The analysis leverages several popular text assessment tools including regular expressions, NLTK and TextBlob. "
   ]
  },
  {
   "cell_type": "code",
   "execution_count": 67,
   "metadata": {
    "collapsed": true
   },
   "outputs": [],
   "source": [
    "import matplotlib.pyplot as plt \n",
    "import pandas as pd\n",
    "import numpy as np\n",
    "import re\n",
    "import string\n",
    "import difflib\n",
    "from collections import Counter\n",
    "from nltk.tokenize import sent_tokenize\n",
    "from textblob import TextBlob\n",
    "import warnings\n",
    "import sys  \n",
    "reload(sys)  \n",
    "sys.setdefaultencoding('utf8')"
   ]
  },
  {
   "cell_type": "code",
   "execution_count": 2,
   "metadata": {
    "collapsed": true
   },
   "outputs": [],
   "source": [
    "warnings.filterwarnings(\"ignore\", category=DeprecationWarning, module=\"pandas\", lineno=570)"
   ]
  },
  {
   "cell_type": "markdown",
   "metadata": {},
   "source": [
    "#### Regex is used to locate \"influencer\" words, or words 5-15 characters in length; a clean, potential alternative from stopwords "
   ]
  },
  {
   "cell_type": "code",
   "execution_count": 3,
   "metadata": {
    "collapsed": true
   },
   "outputs": [],
   "source": [
    "match_pattern = re.findall(r'\\b[a-z]{5,15}\\b', open('full_speech.txt').read().lower())"
   ]
  },
  {
   "cell_type": "code",
   "execution_count": 4,
   "metadata": {
    "collapsed": true
   },
   "outputs": [],
   "source": [
    "match_count = Counter(match_pattern).most_common(5)"
   ]
  },
  {
   "cell_type": "code",
   "execution_count": 5,
   "metadata": {
    "scrolled": true
   },
   "outputs": [
    {
     "data": {
      "text/plain": [
       "[('going', 1012),\n",
       " ('people', 784),\n",
       " ('clinton', 780),\n",
       " ('country', 745),\n",
       " ('american', 721)]"
      ]
     },
     "execution_count": 5,
     "metadata": {},
     "output_type": "execute_result"
    }
   ],
   "source": [
    "match_count"
   ]
  },
  {
   "cell_type": "markdown",
   "metadata": {},
   "source": [
    "#### A barchart above the regex results"
   ]
  },
  {
   "cell_type": "code",
   "execution_count": 55,
   "metadata": {
    "scrolled": true
   },
   "outputs": [
    {
     "data": {
      "image/png": "[encoded data removed]",
      "text/plain": [
       "<matplotlib.figure.Figure at 0x1923b1890>"
      ]
     },
     "metadata": {},
     "output_type": "display_data"
    }
   ],
   "source": [
    "# sort in-place from highest to lowest\n",
    "match_count.sort(key=lambda x: x[1], reverse=True) \n",
    "\n",
    "# save the names and their respective scores separately\n",
    "# reverse the tuples to go from most frequent to least frequent \n",
    "people = zip(*match_count)[0]\n",
    "score = zip(*match_count)[1]\n",
    "x_pos = np.arange(len(people)) \n",
    "\n",
    "plt.bar(x_pos, score, align='center', color='teal')\n",
    "fig = plt.gcf()\n",
    "fig.set_size_inches(10, 5)\n",
    "plt.xticks(x_pos, people) \n",
    "plt.title(\"Five most popular influencer words (5-15 letters in length)\")\n",
    "plt.xlabel('Word')\n",
    "plt.ylabel('Count')\n",
    "plt.show()"
   ]
  },
  {
   "cell_type": "markdown",
   "metadata": {},
   "source": [
    "#### NLK tokenization and TextBlob to prepare and analyze speech text for sentimentality"
   ]
  },
  {
   "cell_type": "code",
   "execution_count": 8,
   "metadata": {
    "collapsed": true
   },
   "outputs": [],
   "source": [
    "trump_text = open(\"full_speech.txt\").read().lower()\n",
    "trump_sentences = sent_tokenize(trump_text)\n",
    "trump_sent_clean = [x for x in trump_sentences if not any(c.isdigit() for c in x)]"
   ]
  },
  {
   "cell_type": "code",
   "execution_count": 9,
   "metadata": {
    "collapsed": true
   },
   "outputs": [],
   "source": [
    "testimonial = TextBlob(trump_text)"
   ]
  },
  {
   "cell_type": "code",
   "execution_count": 10,
   "metadata": {
    "scrolled": false
   },
   "outputs": [
    {
     "data": {
      "text/plain": [
       "Sentiment(polarity=0.10132044464249944, subjectivity=0.45658018743425466)"
      ]
     },
     "execution_count": 10,
     "metadata": {},
     "output_type": "execute_result"
    }
   ],
   "source": [
    "testimonial.sentiment"
   ]
  },
  {
   "cell_type": "markdown",
   "metadata": {},
   "source": [
    "#### Top five most common noun phrases using TextBlob; first person past and present tences, applause, 'can't', and 'hillary clinton'"
   ]
  },
  {
   "cell_type": "code",
   "execution_count": 81,
   "metadata": {},
   "outputs": [
    {
     "data": {
      "text/plain": [
       "[(u'hillary clinton', 249),\n",
       " (u\"i 'm\", 187),\n",
       " (u'[ applause ]', 126),\n",
       " (u\"i 've\", 71),\n",
       " (u\"ca n't\", 57)]"
      ]
     },
     "execution_count": 81,
     "metadata": {},
     "output_type": "execute_result"
    }
   ],
   "source": [
    "# ...\n",
    "Counter(testimonial.noun_phrases).most_common(5)"
   ]
  },
  {
   "cell_type": "markdown",
   "metadata": {},
   "source": [
    "#### Use of difflib's get_close_matches function to assess contextual relevancies of 'hot button issues' within speech text."
   ]
  },
  {
   "cell_type": "code",
   "execution_count": 15,
   "metadata": {},
   "outputs": [
    {
     "data": {
      "text/plain": [
       "['radical islamic terrorism.',\n",
       " \"it's failed them on crime.\",\n",
       " 'i saw this.',\n",
       " 'i like them.',\n",
       " 'she was terrible.',\n",
       " '\"i like them.',\n",
       " 'i said, \"keep the oil.',\n",
       " 'israel does not name public squares after terrorists.',\n",
       " 'and the world is a mess.',\n",
       " \"i said that's right.\",\n",
       " 'that is what we must have to defeat radical islamic terrorism.',\n",
       " 'it was really an amazing interview.',\n",
       " \"it's so preposterous.\",\n",
       " \"i said they don't need it.\",\n",
       " 'much better.']"
      ]
     },
     "execution_count": 15,
     "metadata": {},
     "output_type": "execute_result"
    }
   ],
   "source": [
    "terror_match = difflib.get_close_matches('islamic terrorism', trump_sent_clean, n = 15, cutoff = 0.2)\n",
    "terror_match"
   ]
  },
  {
   "cell_type": "code",
   "execution_count": 16,
   "metadata": {},
   "outputs": [
    {
     "data": {
      "text/plain": [
       "['but that will change.',\n",
       " 'but actually i am.',\n",
       " 'no, not at all.',\n",
       " 'they built a hotel.',\n",
       " \"isn't that nice?\",\n",
       " 'and that was it.',\n",
       " 'do i know how to build a wall?',\n",
       " 'but it was such a lie.',\n",
       " 'and that was horrible.',\n",
       " 'we wish them well.',\n",
       " 'thank you all.',\n",
       " \"it's the power to heal.\",\n",
       " \"that's really nice.\",\n",
       " 'thank you, all.',\n",
       " \"it's a scandal.\"]"
      ]
     },
     "execution_count": 16,
     "metadata": {},
     "output_type": "execute_result"
    }
   ],
   "source": [
    "wall_match = difflib.get_close_matches('built that wall', trump_sent_clean, n = 15, cutoff = 0.2)\n",
    "wall_match"
   ]
  },
  {
   "cell_type": "code",
   "execution_count": 17,
   "metadata": {},
   "outputs": [
    {
     "data": {
      "text/plain": [
       "[\"she's crooked hillary.\",\n",
       " 'and they will pay.',\n",
       " \"we're going to make history.\",\n",
       " 'incredible.',\n",
       " 'incredible.',\n",
       " 'really.',\n",
       " \"look, hillary clinton's a disaster.\",\n",
       " 'look, hillary clinton is a disaster.',\n",
       " 'take the oil.',\n",
       " 'keep the oil.',\n",
       " 'keep the oil.',\n",
       " 'i like china.',\n",
       " 'look at my family.',\n",
       " 'we all agreed.',\n",
       " 'they will pay.']"
      ]
     },
     "execution_count": 17,
     "metadata": {},
     "output_type": "execute_result"
    }
   ],
   "source": [
    "clinton_match = difflib.get_close_matches('crooked hillary', trump_sent_clean, n = 15, cutoff = 0.2)\n",
    "clinton_match"
   ]
  },
  {
   "cell_type": "code",
   "execution_count": null,
   "metadata": {
    "collapsed": true
   },
   "outputs": [],
   "source": []
  }
 ],
 "metadata": {
  "kernelspec": {
   "display_name": "Python 2",
   "language": "python",
   "name": "python2"
  },
  "language_info": {
   "codemirror_mode": {
    "name": "ipython",
    "version": 2
   },
   "file_extension": ".py",
   "mimetype": "text/x-python",
   "name": "python",
   "nbconvert_exporter": "python",
   "pygments_lexer": "ipython2",
   "version": "2.7.13"
  }
 },
 "nbformat": 4,
 "nbformat_minor": 2
}
